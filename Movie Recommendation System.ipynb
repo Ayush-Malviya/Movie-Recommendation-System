{
  "cells": [
    {
      "cell_type": "markdown",
      "metadata": {
        "id": "WwI2uHT4hOhu"
      },
      "source": [
        "# **Movie Recommendation System**"
      ]
    },
    {
      "cell_type": "code",
      "execution_count": 1,
      "metadata": {
        "colab": {
          "base_uri": "https://localhost:8080/"
        },
        "id": "vSs4oxp2a24s",
        "outputId": "ccb1f933-f379-4803-9490-4ffd76100387"
      },
      "outputs": [
        {
          "output_type": "stream",
          "name": "stdout",
          "text": [
            "Requirement already satisfied: kagglehub in /usr/local/lib/python3.11/dist-packages (0.3.12)\n",
            "Requirement already satisfied: packaging in /usr/local/lib/python3.11/dist-packages (from kagglehub) (24.2)\n",
            "Requirement already satisfied: pyyaml in /usr/local/lib/python3.11/dist-packages (from kagglehub) (6.0.2)\n",
            "Requirement already satisfied: requests in /usr/local/lib/python3.11/dist-packages (from kagglehub) (2.32.3)\n",
            "Requirement already satisfied: tqdm in /usr/local/lib/python3.11/dist-packages (from kagglehub) (4.67.1)\n",
            "Requirement already satisfied: charset-normalizer<4,>=2 in /usr/local/lib/python3.11/dist-packages (from requests->kagglehub) (3.4.2)\n",
            "Requirement already satisfied: idna<4,>=2.5 in /usr/local/lib/python3.11/dist-packages (from requests->kagglehub) (3.10)\n",
            "Requirement already satisfied: urllib3<3,>=1.21.1 in /usr/local/lib/python3.11/dist-packages (from requests->kagglehub) (2.4.0)\n",
            "Requirement already satisfied: certifi>=2017.4.17 in /usr/local/lib/python3.11/dist-packages (from requests->kagglehub) (2025.4.26)\n"
          ]
        }
      ],
      "source": [
        "#@title Import Libraries and Setup\n",
        "# Import necessary libraries\n",
        "import numpy as np\n",
        "import pandas as pd\n",
        "import os\n",
        "import ast\n",
        "\n",
        "# Install kagglehub if necessary\n",
        "!pip install kagglehub\n",
        "import kagglehub\n"
      ]
    },
    {
      "cell_type": "code",
      "execution_count": 2,
      "metadata": {
        "colab": {
          "base_uri": "https://localhost:8080/"
        },
        "id": "9axXqA1KbA9M",
        "outputId": "8a0095cc-da25-4027-f7e2-47e3a65e8467"
      },
      "outputs": [
        {
          "output_type": "stream",
          "name": "stdout",
          "text": [
            "Path to dataset files: /kaggle/input/tmdb-movie-metadata\n"
          ]
        }
      ],
      "source": [
        "#@title Download the Dataset\n",
        "# Download the TMDB dataset using kagglehub\n",
        "path = kagglehub.dataset_download(\"tmdb/tmdb-movie-metadata\")\n",
        "print(\"Path to dataset files:\", path)\n",
        "\n",
        "# Set dataset file paths\n",
        "movies_path = os.path.join(path, 'tmdb_5000_movies.csv')\n",
        "credits_path = os.path.join(path, 'tmdb_5000_credits.csv')\n"
      ]
    },
    {
      "cell_type": "code",
      "execution_count": 3,
      "metadata": {
        "id": "1fwiQMgCbE2y"
      },
      "outputs": [],
      "source": [
        "#@title Load the Data\n",
        "# Load the datasets\n",
        "movies = pd.read_csv(movies_path)\n",
        "credits = pd.read_csv(credits_path)\n",
        "\n",
        "# Merge movies and credits datasets\n",
        "movies = movies.merge(credits, on='title')\n",
        "movies = movies[['movie_id', 'title', 'overview', 'genres', 'keywords', 'cast', 'crew']]\n",
        "\n",
        "# Drop missing values\n",
        "movies.dropna(inplace=True)\n"
      ]
    },
    {
      "cell_type": "code",
      "execution_count": 4,
      "metadata": {
        "id": "HGiShgQIbE9s"
      },
      "outputs": [],
      "source": [
        "#@title Data Preprocessing\n",
        "# Helper function to extract names from JSON-like strings\n",
        "def convert(text):\n",
        "    L = []\n",
        "    for i in ast.literal_eval(text):\n",
        "        L.append(i['name'])\n",
        "    return L\n",
        "\n",
        "# Apply the function to extract genres and keywords\n",
        "movies['genres'] = movies['genres'].apply(convert)\n",
        "movies['keywords'] = movies['keywords'].apply(convert)\n",
        "\n",
        "# Extract top 3 cast members\n",
        "movies['cast'] = movies['cast'].apply(convert).apply(lambda x: x[:3])\n",
        "\n",
        "# Extract director from crew\n",
        "def fetch_director(text):\n",
        "    L = []\n",
        "    for i in ast.literal_eval(text):\n",
        "        if i['job'] == 'Director':\n",
        "            L.append(i['name'])\n",
        "    return L\n",
        "\n",
        "movies['crew'] = movies['crew'].apply(fetch_director)\n"
      ]
    },
    {
      "cell_type": "code",
      "execution_count": 5,
      "metadata": {
        "colab": {
          "base_uri": "https://localhost:8080/"
        },
        "id": "7eSk_ZqQbFEq",
        "outputId": "9bede921-4077-48c5-9181-92d8d4d35ba8"
      },
      "outputs": [
        {
          "output_type": "stream",
          "name": "stderr",
          "text": [
            "<ipython-input-5-dba05f41967a>:17: SettingWithCopyWarning: \n",
            "A value is trying to be set on a copy of a slice from a DataFrame.\n",
            "Try using .loc[row_indexer,col_indexer] = value instead\n",
            "\n",
            "See the caveats in the documentation: https://pandas.pydata.org/pandas-docs/stable/user_guide/indexing.html#returning-a-view-versus-a-copy\n",
            "  new['tags'] = new['tags'].apply(lambda x: \" \".join(x))\n"
          ]
        }
      ],
      "source": [
        "#@title Combine Tags for Each Movie\n",
        "# Remove spaces from text data\n",
        "def collapse(L):\n",
        "    return [i.replace(\" \", \"\") for i in L]\n",
        "\n",
        "movies['genres'] = movies['genres'].apply(collapse)\n",
        "movies['keywords'] = movies['keywords'].apply(collapse)\n",
        "movies['cast'] = movies['cast'].apply(collapse)\n",
        "movies['crew'] = movies['crew'].apply(collapse)\n",
        "movies['overview'] = movies['overview'].apply(lambda x: x.split())\n",
        "\n",
        "# Combine all tags into a single column\n",
        "movies['tags'] = movies['overview'] + movies['genres'] + movies['keywords'] + movies['cast'] + movies['crew']\n",
        "new = movies[['movie_id', 'title', 'tags']]\n",
        "\n",
        "# Convert tags list into a single string\n",
        "new['tags'] = new['tags'].apply(lambda x: \" \".join(x))\n"
      ]
    },
    {
      "cell_type": "code",
      "execution_count": 6,
      "metadata": {
        "id": "zPnyQP0qbF0m"
      },
      "outputs": [],
      "source": [
        "#@title Feature Extraction and Similarity Calculation\n",
        "from sklearn.feature_extraction.text import CountVectorizer\n",
        "from sklearn.metrics.pairwise import cosine_similarity\n",
        "\n",
        "# Create a CountVectorizer and transform the tags\n",
        "cv = CountVectorizer(max_features=5000, stop_words='english')\n",
        "vector = cv.fit_transform(new['tags']).toarray()\n",
        "\n",
        "# Compute cosine similarity\n",
        "similarity = cosine_similarity(vector)\n"
      ]
    },
    {
      "cell_type": "code",
      "execution_count": 7,
      "metadata": {
        "id": "YwbsecV1bF8F"
      },
      "outputs": [],
      "source": [
        "#@title Recommendation Function\n",
        "def recommend(movie):\n",
        "    index = new[new['title'] == movie].index[0]\n",
        "    distances = sorted(list(enumerate(similarity[index])), reverse=True, key=lambda x: x[1])\n",
        "    for i in distances[1:6]:\n",
        "        print(new.iloc[i[0]].title)\n"
      ]
    },
    {
      "cell_type": "code",
      "execution_count": 8,
      "metadata": {
        "colab": {
          "base_uri": "https://localhost:8080/"
        },
        "id": "g5y6fbCsbGCz",
        "outputId": "fdaa45eb-651a-480b-b7ac-61787f52f177"
      },
      "outputs": [
        {
          "output_type": "stream",
          "name": "stdout",
          "text": [
            "Gandhi, My Father\n",
            "The Wind That Shakes the Barley\n",
            "A Passage to India\n",
            "Guiana 1838\n",
            "Ramanujan\n"
          ]
        }
      ],
      "source": [
        "#@title Test the Recommendation System\n",
        "# Test the system with an example\n",
        "recommend('Gandhi')\n"
      ]
    },
    {
      "cell_type": "code",
      "execution_count": 9,
      "metadata": {
        "id": "nBz0_FURbGJP"
      },
      "outputs": [],
      "source": [
        "#@title Save the Model for Deployment\n",
        "import pickle\n",
        "\n",
        "# Save the processed data and similarity matrix\n",
        "pickle.dump(new, open('movie_list.pkl', 'wb'))\n",
        "pickle.dump(similarity, open('similarity.pkl', 'wb'))\n"
      ]
    },
    {
      "cell_type": "markdown",
      "metadata": {
        "id": "OIpl9L8ecvee"
      },
      "source": [
        "---"
      ]
    },
    {
      "cell_type": "code",
      "execution_count": 10,
      "metadata": {
        "colab": {
          "base_uri": "https://localhost:8080/"
        },
        "id": "4j3fLj0xcydu",
        "outputId": "d9bad188-9497-408a-ca78-e54afcc38a4b"
      },
      "outputs": [
        {
          "output_type": "stream",
          "name": "stdout",
          "text": [
            "Collecting streamlit\n",
            "  Downloading streamlit-1.45.1-py3-none-any.whl.metadata (8.9 kB)\n",
            "Collecting pyngrok\n",
            "  Downloading pyngrok-7.2.8-py3-none-any.whl.metadata (10 kB)\n",
            "Requirement already satisfied: altair<6,>=4.0 in /usr/local/lib/python3.11/dist-packages (from streamlit) (5.5.0)\n",
            "Requirement already satisfied: blinker<2,>=1.5.0 in /usr/local/lib/python3.11/dist-packages (from streamlit) (1.9.0)\n",
            "Requirement already satisfied: cachetools<6,>=4.0 in /usr/local/lib/python3.11/dist-packages (from streamlit) (5.5.2)\n",
            "Requirement already satisfied: click<9,>=7.0 in /usr/local/lib/python3.11/dist-packages (from streamlit) (8.1.8)\n",
            "Requirement already satisfied: numpy<3,>=1.23 in /usr/local/lib/python3.11/dist-packages (from streamlit) (2.0.2)\n",
            "Requirement already satisfied: packaging<25,>=20 in /usr/local/lib/python3.11/dist-packages (from streamlit) (24.2)\n",
            "Requirement already satisfied: pandas<3,>=1.4.0 in /usr/local/lib/python3.11/dist-packages (from streamlit) (2.2.2)\n",
            "Requirement already satisfied: pillow<12,>=7.1.0 in /usr/local/lib/python3.11/dist-packages (from streamlit) (11.2.1)\n",
            "Requirement already satisfied: protobuf<7,>=3.20 in /usr/local/lib/python3.11/dist-packages (from streamlit) (5.29.4)\n",
            "Requirement already satisfied: pyarrow>=7.0 in /usr/local/lib/python3.11/dist-packages (from streamlit) (18.1.0)\n",
            "Requirement already satisfied: requests<3,>=2.27 in /usr/local/lib/python3.11/dist-packages (from streamlit) (2.32.3)\n",
            "Requirement already satisfied: tenacity<10,>=8.1.0 in /usr/local/lib/python3.11/dist-packages (from streamlit) (9.1.2)\n",
            "Requirement already satisfied: toml<2,>=0.10.1 in /usr/local/lib/python3.11/dist-packages (from streamlit) (0.10.2)\n",
            "Requirement already satisfied: typing-extensions<5,>=4.4.0 in /usr/local/lib/python3.11/dist-packages (from streamlit) (4.13.2)\n",
            "Collecting watchdog<7,>=2.1.5 (from streamlit)\n",
            "  Downloading watchdog-6.0.0-py3-none-manylinux2014_x86_64.whl.metadata (44 kB)\n",
            "\u001b[2K     \u001b[90m━━━━━━━━━━━━━━━━━━━━━━━━━━━━━━━━━━━━━━━━\u001b[0m \u001b[32m44.3/44.3 kB\u001b[0m \u001b[31m2.8 MB/s\u001b[0m eta \u001b[36m0:00:00\u001b[0m\n",
            "\u001b[?25hRequirement already satisfied: gitpython!=3.1.19,<4,>=3.0.7 in /usr/local/lib/python3.11/dist-packages (from streamlit) (3.1.44)\n",
            "Collecting pydeck<1,>=0.8.0b4 (from streamlit)\n",
            "  Downloading pydeck-0.9.1-py2.py3-none-any.whl.metadata (4.1 kB)\n",
            "Requirement already satisfied: tornado<7,>=6.0.3 in /usr/local/lib/python3.11/dist-packages (from streamlit) (6.4.2)\n",
            "Requirement already satisfied: PyYAML>=5.1 in /usr/local/lib/python3.11/dist-packages (from pyngrok) (6.0.2)\n",
            "Requirement already satisfied: jinja2 in /usr/local/lib/python3.11/dist-packages (from altair<6,>=4.0->streamlit) (3.1.6)\n",
            "Requirement already satisfied: jsonschema>=3.0 in /usr/local/lib/python3.11/dist-packages (from altair<6,>=4.0->streamlit) (4.23.0)\n",
            "Requirement already satisfied: narwhals>=1.14.2 in /usr/local/lib/python3.11/dist-packages (from altair<6,>=4.0->streamlit) (1.38.2)\n",
            "Requirement already satisfied: gitdb<5,>=4.0.1 in /usr/local/lib/python3.11/dist-packages (from gitpython!=3.1.19,<4,>=3.0.7->streamlit) (4.0.12)\n",
            "Requirement already satisfied: python-dateutil>=2.8.2 in /usr/local/lib/python3.11/dist-packages (from pandas<3,>=1.4.0->streamlit) (2.9.0.post0)\n",
            "Requirement already satisfied: pytz>=2020.1 in /usr/local/lib/python3.11/dist-packages (from pandas<3,>=1.4.0->streamlit) (2025.2)\n",
            "Requirement already satisfied: tzdata>=2022.7 in /usr/local/lib/python3.11/dist-packages (from pandas<3,>=1.4.0->streamlit) (2025.2)\n",
            "Requirement already satisfied: charset-normalizer<4,>=2 in /usr/local/lib/python3.11/dist-packages (from requests<3,>=2.27->streamlit) (3.4.2)\n",
            "Requirement already satisfied: idna<4,>=2.5 in /usr/local/lib/python3.11/dist-packages (from requests<3,>=2.27->streamlit) (3.10)\n",
            "Requirement already satisfied: urllib3<3,>=1.21.1 in /usr/local/lib/python3.11/dist-packages (from requests<3,>=2.27->streamlit) (2.4.0)\n",
            "Requirement already satisfied: certifi>=2017.4.17 in /usr/local/lib/python3.11/dist-packages (from requests<3,>=2.27->streamlit) (2025.4.26)\n",
            "Requirement already satisfied: smmap<6,>=3.0.1 in /usr/local/lib/python3.11/dist-packages (from gitdb<5,>=4.0.1->gitpython!=3.1.19,<4,>=3.0.7->streamlit) (5.0.2)\n",
            "Requirement already satisfied: MarkupSafe>=2.0 in /usr/local/lib/python3.11/dist-packages (from jinja2->altair<6,>=4.0->streamlit) (3.0.2)\n",
            "Requirement already satisfied: attrs>=22.2.0 in /usr/local/lib/python3.11/dist-packages (from jsonschema>=3.0->altair<6,>=4.0->streamlit) (25.3.0)\n",
            "Requirement already satisfied: jsonschema-specifications>=2023.03.6 in /usr/local/lib/python3.11/dist-packages (from jsonschema>=3.0->altair<6,>=4.0->streamlit) (2025.4.1)\n",
            "Requirement already satisfied: referencing>=0.28.4 in /usr/local/lib/python3.11/dist-packages (from jsonschema>=3.0->altair<6,>=4.0->streamlit) (0.36.2)\n",
            "Requirement already satisfied: rpds-py>=0.7.1 in /usr/local/lib/python3.11/dist-packages (from jsonschema>=3.0->altair<6,>=4.0->streamlit) (0.24.0)\n",
            "Requirement already satisfied: six>=1.5 in /usr/local/lib/python3.11/dist-packages (from python-dateutil>=2.8.2->pandas<3,>=1.4.0->streamlit) (1.17.0)\n",
            "Downloading streamlit-1.45.1-py3-none-any.whl (9.9 MB)\n",
            "\u001b[2K   \u001b[90m━━━━━━━━━━━━━━━━━━━━━━━━━━━━━━━━━━━━━━━━\u001b[0m \u001b[32m9.9/9.9 MB\u001b[0m \u001b[31m101.0 MB/s\u001b[0m eta \u001b[36m0:00:00\u001b[0m\n",
            "\u001b[?25hDownloading pyngrok-7.2.8-py3-none-any.whl (25 kB)\n",
            "Downloading pydeck-0.9.1-py2.py3-none-any.whl (6.9 MB)\n",
            "\u001b[2K   \u001b[90m━━━━━━━━━━━━━━━━━━━━━━━━━━━━━━━━━━━━━━━━\u001b[0m \u001b[32m6.9/6.9 MB\u001b[0m \u001b[31m106.3 MB/s\u001b[0m eta \u001b[36m0:00:00\u001b[0m\n",
            "\u001b[?25hDownloading watchdog-6.0.0-py3-none-manylinux2014_x86_64.whl (79 kB)\n",
            "\u001b[2K   \u001b[90m━━━━━━━━━━━━━━━━━━━━━━━━━━━━━━━━━━━━━━━━\u001b[0m \u001b[32m79.1/79.1 kB\u001b[0m \u001b[31m6.1 MB/s\u001b[0m eta \u001b[36m0:00:00\u001b[0m\n",
            "\u001b[?25hInstalling collected packages: watchdog, pyngrok, pydeck, streamlit\n",
            "Successfully installed pydeck-0.9.1 pyngrok-7.2.8 streamlit-1.45.1 watchdog-6.0.0\n"
          ]
        }
      ],
      "source": [
        "#@title Install Necessary Libraries\n",
        "# Install Streamlit and SQLite support\n",
        "!pip install streamlit pyngrok\n"
      ]
    },
    {
      "cell_type": "code",
      "execution_count": 11,
      "metadata": {
        "id": "CAZiS3bW51jA"
      },
      "outputs": [],
      "source": [
        "#@title Import Libraries\n",
        "import pickle\n",
        "import pandas as pd\n",
        "import requests\n",
        "import sqlite3\n",
        "import streamlit as st\n"
      ]
    },
    {
      "cell_type": "code",
      "execution_count": 12,
      "metadata": {
        "id": "Fr9AsdvioYwp"
      },
      "outputs": [],
      "source": [
        "#@title Set Up SQLite Database for User Authentication\n",
        "# Create or connect to SQLite database\n",
        "conn = sqlite3.connect('users.db')\n",
        "c = conn.cursor()\n",
        "\n",
        "# Create users table\n",
        "c.execute('''\n",
        "    CREATE TABLE IF NOT EXISTS users (\n",
        "        id INTEGER PRIMARY KEY AUTOINCREMENT,\n",
        "        username TEXT UNIQUE NOT NULL,\n",
        "        password TEXT NOT NULL\n",
        "    )\n",
        "''')\n",
        "conn.commit()\n"
      ]
    },
    {
      "cell_type": "code",
      "execution_count": 13,
      "metadata": {
        "id": "lMGh9eZOr7-J"
      },
      "outputs": [],
      "source": [
        "#@title Authentication Helper Functions\n",
        "# Register user\n",
        "def register_user(username, password):\n",
        "    try:\n",
        "        c.execute('INSERT INTO users (username, password) VALUES (?, ?)', (username, password))\n",
        "        conn.commit()\n",
        "        return True\n",
        "    except sqlite3.IntegrityError:\n",
        "        return False\n",
        "\n",
        "# Authenticate user\n",
        "def authenticate_user(username, password):\n",
        "    c.execute('SELECT * FROM users WHERE username = ? AND password = ?', (username, password))\n",
        "    return c.fetchone() is not None\n",
        "\n",
        "# Logout user\n",
        "def logout_user():\n",
        "    st.session_state['logged_in'] = False\n",
        "    st.session_state['username'] = None\n"
      ]
    },
    {
      "cell_type": "code",
      "execution_count": 14,
      "metadata": {
        "id": "sDmMt7Gu_x3h"
      },
      "outputs": [],
      "source": [
        "#@title Recommendation Functions\n",
        "def fetch_poster_and_url(movie_id, api_key):\n",
        "    \"\"\"Fetch movie poster and TMDB URL using the movie ID.\"\"\"\n",
        "    url = f\"https://api.themoviedb.org/3/movie/{movie_id}?api_key={api_key}&language=en-US\"\n",
        "    try:\n",
        "        response = requests.get(url)\n",
        "        response.raise_for_status()\n",
        "        data = response.json()\n",
        "        poster_path = data.get('poster_path', '')\n",
        "        poster_url = f\"https://image.tmdb.org/t/p/w500/{poster_path}\" if poster_path else None\n",
        "        tmdb_url = f\"https://www.themoviedb.org/movie/{movie_id}\"\n",
        "        return poster_url, tmdb_url\n",
        "    except Exception:\n",
        "        return None, None\n",
        "\n",
        "def recommend(movie, movies, similarity, api_key):\n",
        "    \"\"\"Get movie recommendations based on similarity scores.\"\"\"\n",
        "    try:\n",
        "        index = movies[movies['title'].str.lower() == movie.lower()].index[0]\n",
        "        distances = sorted(list(enumerate(similarity[index])), reverse=True, key=lambda x: x[1])\n",
        "        recommended_movies = []\n",
        "        for i in distances[1:6]:\n",
        "            movie_id = movies.iloc[i[0]].movie_id\n",
        "            poster_url, tmdb_url = fetch_poster_and_url(movie_id, api_key)\n",
        "            recommended_movies.append({\n",
        "                \"title\": movies.iloc[i[0]].title,\n",
        "                \"poster_url\": poster_url,\n",
        "                \"tmdb_url\": tmdb_url\n",
        "            })\n",
        "        return recommended_movies\n",
        "    except IndexError:\n",
        "        return []\n"
      ]
    },
    {
      "cell_type": "code",
      "execution_count": 15,
      "metadata": {
        "id": "vl7Hb4Xou0xS"
      },
      "outputs": [],
      "source": [
        "#@title Load Data\n",
        "# Load the preprocessed data and similarity matrix\n",
        "movies = pickle.load(open('/content/movie_list.pkl', 'rb'))\n",
        "similarity = pickle.load(open('/content/similarity.pkl', 'rb'))\n",
        "\n",
        "# TMDB API Key\n",
        "TMDB_API_KEY = \"8265bd1679663a7ea12ac168da84d2e8\"  # Replace with your TMDB API key\n"
      ]
    },
    {
      "cell_type": "code",
      "execution_count": 16,
      "metadata": {
        "colab": {
          "base_uri": "https://localhost:8080/"
        },
        "id": "nHUjT_C5u9Y_",
        "outputId": "9879995c-7a2c-4e56-90aa-e26e868c85f0"
      },
      "outputs": [
        {
          "output_type": "stream",
          "name": "stdout",
          "text": [
            "Writing app.py\n"
          ]
        }
      ],
      "source": [
        "#@title Create Streamlit App Script\n",
        "%%writefile app.py\n",
        "import pickle\n",
        "import pandas as pd\n",
        "import requests\n",
        "import sqlite3\n",
        "import streamlit as st\n",
        "\n",
        "# Database connection\n",
        "conn = sqlite3.connect('users.db')\n",
        "c = conn.cursor()\n",
        "\n",
        "# Authentication Functions\n",
        "def register_user(username, password):\n",
        "    try:\n",
        "        c.execute('INSERT INTO users (username, password) VALUES (?, ?)', (username, password))\n",
        "        conn.commit()\n",
        "        return True\n",
        "    except sqlite3.IntegrityError:\n",
        "        return False\n",
        "\n",
        "def authenticate_user(username, password):\n",
        "    c.execute('SELECT * FROM users WHERE username = ? AND password = ?', (username, password))\n",
        "    return c.fetchone() is not None\n",
        "\n",
        "def logout_user():\n",
        "    st.session_state['logged_in'] = False\n",
        "    st.session_state['username'] = None\n",
        "\n",
        "def fetch_poster_and_url(movie_id, api_key):\n",
        "    \"\"\"Fetch movie poster and TMDB URL using the movie ID.\"\"\"\n",
        "    url = f\"https://api.themoviedb.org/3/movie/{movie_id}?api_key={api_key}&language=en-US\"\n",
        "    try:\n",
        "        response = requests.get(url)\n",
        "        response.raise_for_status()\n",
        "        data = response.json()\n",
        "        poster_path = data.get('poster_path', '')\n",
        "        poster_url = f\"https://image.tmdb.org/t/p/w500/{poster_path}\" if poster_path else None\n",
        "        tmdb_url = f\"https://www.themoviedb.org/movie/{movie_id}\"\n",
        "        return poster_url, tmdb_url\n",
        "    except Exception:\n",
        "        return None, None\n",
        "\n",
        "def recommend(movie, movies, similarity, api_key):\n",
        "    \"\"\"Get movie recommendations based on similarity scores.\"\"\"\n",
        "    try:\n",
        "        index = movies[movies['title'].str.lower() == movie.lower()].index[0]\n",
        "        distances = sorted(list(enumerate(similarity[index])), reverse=True, key=lambda x: x[1])\n",
        "        recommended_movies = []\n",
        "        for i in distances[1:6]:\n",
        "            movie_id = movies.iloc[i[0]].movie_id\n",
        "            poster_url, tmdb_url = fetch_poster_and_url(movie_id, api_key)\n",
        "            recommended_movies.append({\n",
        "                \"title\": movies.iloc[i[0]].title,\n",
        "                \"poster_url\": poster_url,\n",
        "                \"tmdb_url\": tmdb_url\n",
        "            })\n",
        "        return recommended_movies\n",
        "    except IndexError:\n",
        "        return []\n",
        "\n",
        "# Load Data\n",
        "movies = pickle.load(open('/content/movie_list.pkl', 'rb'))\n",
        "similarity = pickle.load(open('/content/similarity.pkl', 'rb'))\n",
        "TMDB_API_KEY = \"8265bd1679663a7ea12ac168da84d2e8\"\n",
        "\n",
        "# Streamlit App\n",
        "st.title(\"🎬 Movie Recommendation System with Authentication\")\n",
        "\n",
        "# Initialize session state\n",
        "if 'logged_in' not in st.session_state:\n",
        "    st.session_state['logged_in'] = False\n",
        "    st.session_state['username'] = None\n",
        "\n",
        "# Navbar\n",
        "if st.session_state['logged_in']:\n",
        "    st.sidebar.markdown(f\"👤 Logged in as: **{st.session_state['username']}**\")\n",
        "    if st.sidebar.button(\"Log Out\", key=\"logout_button\"):\n",
        "        logout_user()\n",
        "        st.rerun()\n",
        "else:\n",
        "    nav_option = st.sidebar.radio(\"Navigation\", [\"Log In\", \"Register\"])\n",
        "\n",
        "# Authentication Pages\n",
        "if not st.session_state['logged_in']:\n",
        "    if nav_option == \"Log In\":\n",
        "        st.subheader(\"Log In\")\n",
        "        username = st.text_input(\"Username\")\n",
        "        password = st.text_input(\"Password\", type=\"password\")\n",
        "        if st.button(\"Log In\"):\n",
        "            if authenticate_user(username, password):\n",
        "                st.session_state['logged_in'] = True\n",
        "                st.session_state['username'] = username\n",
        "                st.success(\"Login successful!\")\n",
        "                st.rerun()\n",
        "            else:\n",
        "                st.error(\"Invalid username or password.\")\n",
        "    elif nav_option == \"Register\":\n",
        "        st.subheader(\"Register\")\n",
        "        new_username = st.text_input(\"Create Username\")\n",
        "        new_password = st.text_input(\"Create Password\", type=\"password\")\n",
        "        if st.button(\"Register\"):\n",
        "            if register_user(new_username, new_password):\n",
        "                st.success(\"Registration successful! Please log in.\")\n",
        "            else:\n",
        "                st.error(\"Username already exists. Please choose a different username.\")\n",
        "else:\n",
        "    # Recommendation Section\n",
        "    st.subheader(\"Welcome to Movie Recommendations!\")\n",
        "    movie_list = movies['title'].values\n",
        "    selected_movie = st.selectbox(\"Type or select a movie:\", movie_list)\n",
        "\n",
        "    if st.button(\"Show Recommendations\"):\n",
        "        recommended_movies = recommend(selected_movie, movies, similarity, TMDB_API_KEY)\n",
        "        if recommended_movies:\n",
        "            cols = st.columns(5)\n",
        "            for i, col in enumerate(cols):\n",
        "                if i < len(recommended_movies):\n",
        "                    movie = recommended_movies[i]\n",
        "                    with col:\n",
        "                        st.markdown(f\"[![{movie['title']}]({movie['poster_url']})]({movie['tmdb_url']})\")\n",
        "                        st.caption(movie['title'])\n",
        "        else:\n",
        "            st.error(\"No recommendations found!\")\n"
      ]
    },
    {
      "cell_type": "code",
      "execution_count": 17,
      "metadata": {
        "colab": {
          "base_uri": "https://localhost:8080/"
        },
        "id": "X5bZSP5DmGff",
        "outputId": "f53a3d12-0646-4dce-c6b2-bd6db5b51718"
      },
      "outputs": [
        {
          "output_type": "stream",
          "name": "stdout",
          "text": [
            "35.194.81.131"
          ]
        }
      ],
      "source": [
        "!curl https://loca.lt/mytunnelpassword"
      ]
    },
    {
      "cell_type": "code",
      "execution_count": null,
      "metadata": {
        "colab": {
          "base_uri": "https://localhost:8080/"
        },
        "id": "8LPDYy-dc3Pt",
        "outputId": "01740500-3a48-4259-971d-97c3c1bc7651"
      },
      "outputs": [
        {
          "output_type": "stream",
          "name": "stdout",
          "text": [
            "\n",
            "Collecting usage statistics. To deactivate, set browser.gatherUsageStats to false.\n",
            "\u001b[0m\n",
            "\u001b[0m\n",
            "\u001b[34m\u001b[1m  You can now view your Streamlit app in your browser.\u001b[0m\n",
            "\u001b[0m\n",
            "\u001b[34m  Local URL: \u001b[0m\u001b[1mhttp://localhost:8501\u001b[0m\n",
            "\u001b[34m  Network URL: \u001b[0m\u001b[1mhttp://172.28.0.12:8501\u001b[0m\n",
            "\u001b[34m  External URL: \u001b[0m\u001b[1mhttp://35.194.81.131:8501\u001b[0m\n",
            "\u001b[0m\n",
            "\u001b[1G\u001b[0K⠙\u001b[1G\u001b[0K⠹\u001b[1G\u001b[0K⠸\u001b[1G\u001b[0K⠼\u001b[1G\u001b[0K⠴\u001b[1G\u001b[0K\u001b[1G\u001b[0JNeed to install the following packages:\n",
            "localtunnel@2.0.2\n",
            "Ok to proceed? (y) \u001b[20Gy\n",
            "\n",
            "\u001b[1G\u001b[0K⠙\u001b[1G\u001b[0K⠹\u001b[1G\u001b[0K⠸\u001b[1G\u001b[0K⠼\u001b[1G\u001b[0K⠴\u001b[1G\u001b[0K⠦\u001b[1G\u001b[0K⠧\u001b[1G\u001b[0K⠇\u001b[1G\u001b[0K⠏\u001b[1G\u001b[0K⠋\u001b[1G\u001b[0K⠙\u001b[1G\u001b[0K⠹\u001b[1G\u001b[0K⠸\u001b[1G\u001b[0K⠼\u001b[1G\u001b[0K⠴\u001b[1G\u001b[0K⠦\u001b[1G\u001b[0K⠧\u001b[1G\u001b[0K⠇\u001b[1G\u001b[0K⠏\u001b[1G\u001b[0K⠋\u001b[1G\u001b[0K⠙\u001b[1G\u001b[0K⠹\u001b[1G\u001b[0K⠸\u001b[1G\u001b[0K⠼\u001b[1G\u001b[0K⠴\u001b[1G\u001b[0Kyour url is: https://great-banks-sleep.loca.lt\n"
          ]
        }
      ],
      "source": [
        "#@title Run the App\n",
        "# Run the Streamlit app and expose it using LocalTunnel\n",
        "!streamlit run app.py & npx localtunnel --port 8501"
      ]
    }
  ],
  "metadata": {
    "colab": {
      "provenance": []
    },
    "kernelspec": {
      "display_name": "Python 3",
      "name": "python3"
    },
    "language_info": {
      "name": "python"
    }
  },
  "nbformat": 4,
  "nbformat_minor": 0
}